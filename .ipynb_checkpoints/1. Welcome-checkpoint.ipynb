{
 "cells": [
  {
   "cell_type": "markdown",
   "metadata": {},
   "source": [
    "# Welcome\n",
    "\n",
    "Well, this is a tutorial series that will be covering all concepts discussed by Andrew NG in his course but in *Python* rather than the somewhat outdated and pretty-mcuh-no-one-uses-it-anyways-practically Octave/Matlab. \n",
    "\n",
    "## Prerequisites\n",
    "\n",
    "It's highly recommended that you achieve good comfort with python and learn numpy, matplotlib and pandas before starting.\n",
    "\n",
    "Check out my tutorials for the same:\n",
    "* [Numpy](https://github.com/Syzygianinfern0/Numpy-Tutorial)\n",
    "* [Matplotlib](https://github.com/Syzygianinfern0/Matplotlib-Tutorial)\n",
    "* [Pandas](https://github.com/Syzygianinfern0/Pandas-Tutorial)\n",
    "\n",
    "You will also need to get the [scikit-learn](https://scikit-learn.org/stable/) module using Anaconda or PiP \n",
    "\n",
    "Check out the installation instructions [Here](https://scikit-learn.org/stable/install.html)\n",
    "\n",
    "Check them all by running :"
   ]
  },
  {
   "cell_type": "code",
   "execution_count": 2,
   "metadata": {},
   "outputs": [],
   "source": [
    "import numpy as np\n",
    "import pandas as pd\n",
    "import matplotlib.pyplot as plt\n",
    "import sklearn"
   ]
  },
  {
   "cell_type": "markdown",
   "metadata": {},
   "source": [
    "---\n",
    "If you have not got any error upon this line then, you are ready to go"
   ]
  }
 ],
 "metadata": {
  "kernelspec": {
   "display_name": "Python 3",
   "language": "python",
   "name": "python3"
  },
  "language_info": {
   "codemirror_mode": {
    "name": "ipython",
    "version": 3
   },
   "file_extension": ".py",
   "mimetype": "text/x-python",
   "name": "python",
   "nbconvert_exporter": "python",
   "pygments_lexer": "ipython3",
   "version": "3.7.3"
  }
 },
 "nbformat": 4,
 "nbformat_minor": 2
}
